{
 "cells": [
  {
   "cell_type": "code",
   "execution_count": 1,
   "id": "d86001e7",
   "metadata": {},
   "outputs": [
    {
     "data": {
      "application/javascript": [
       "\n",
       "            setTimeout(function() {\n",
       "                var nbb_cell_id = 1;\n",
       "                var nbb_unformatted_code = \"%load_ext autoreload\\n%autoreload 2\\n%load_ext nb_black\\n%matplotlib inline\\n\\nimport os\\nfrom functools import lru_cache\\n\\nimport ipywidgets as widgets\\nfrom ipywidgets import interact, interact_manual\\n\\nimport matplotlib.pyplot as plt\\nimport numpy as np\\nfrom sklearn.metrics import classification_report\";\n",
       "                var nbb_formatted_code = \"%load_ext autoreload\\n%autoreload 2\\n%load_ext nb_black\\n%matplotlib inline\\n\\nimport os\\nfrom functools import lru_cache\\n\\nimport ipywidgets as widgets\\nfrom ipywidgets import interact, interact_manual\\n\\nimport matplotlib.pyplot as plt\\nimport numpy as np\\nfrom sklearn.metrics import classification_report\";\n",
       "                var nbb_cells = Jupyter.notebook.get_cells();\n",
       "                for (var i = 0; i < nbb_cells.length; ++i) {\n",
       "                    if (nbb_cells[i].input_prompt_number == nbb_cell_id) {\n",
       "                        if (nbb_cells[i].get_text() == nbb_unformatted_code) {\n",
       "                             nbb_cells[i].set_text(nbb_formatted_code);\n",
       "                        }\n",
       "                        break;\n",
       "                    }\n",
       "                }\n",
       "            }, 500);\n",
       "            "
      ],
      "text/plain": [
       "<IPython.core.display.Javascript object>"
      ]
     },
     "metadata": {},
     "output_type": "display_data"
    }
   ],
   "source": [
    "%load_ext autoreload\n",
    "%autoreload 2\n",
    "%load_ext nb_black\n",
    "%matplotlib inline\n",
    "\n",
    "import os\n",
    "from functools import lru_cache\n",
    "\n",
    "import ipywidgets as widgets\n",
    "from ipywidgets import interact, interact_manual\n",
    "\n",
    "import matplotlib.pyplot as plt\n",
    "import numpy as np\n",
    "from sklearn.metrics import classification_report"
   ]
  },
  {
   "cell_type": "code",
   "execution_count": 2,
   "id": "55b9de4a",
   "metadata": {},
   "outputs": [
    {
     "name": "stdout",
     "output_type": "stream",
     "text": [
      "-----------------------------------------\n",
      "keras-unet init: TF version is >= 2.0.0 - using `tf.keras` instead of `Keras`\n",
      "-----------------------------------------\n",
      "Segmentation Models: using `tf.keras` framework.\n",
      "Dataset is located at dataset_path='/home/maciej/.keras/datasets'\n",
      "There are 45 images\n"
     ]
    },
    {
     "data": {
      "application/javascript": [
       "\n",
       "            setTimeout(function() {\n",
       "                var nbb_cell_id = 2;\n",
       "                var nbb_unformatted_code = \"from showoff import dataset_path, images, augmentation_pipeline, get_results, fin_filter\\n\\nprint(f\\\"Dataset is located at {dataset_path=}\\\")\\nprint(f\\\"There are {len(images)} images\\\")\";\n",
       "                var nbb_formatted_code = \"from showoff import dataset_path, images, augmentation_pipeline, get_results, fin_filter\\n\\nprint(f\\\"Dataset is located at {dataset_path=}\\\")\\nprint(f\\\"There are {len(images)} images\\\")\";\n",
       "                var nbb_cells = Jupyter.notebook.get_cells();\n",
       "                for (var i = 0; i < nbb_cells.length; ++i) {\n",
       "                    if (nbb_cells[i].input_prompt_number == nbb_cell_id) {\n",
       "                        if (nbb_cells[i].get_text() == nbb_unformatted_code) {\n",
       "                             nbb_cells[i].set_text(nbb_formatted_code);\n",
       "                        }\n",
       "                        break;\n",
       "                    }\n",
       "                }\n",
       "            }, 500);\n",
       "            "
      ],
      "text/plain": [
       "<IPython.core.display.Javascript object>"
      ]
     },
     "metadata": {},
     "output_type": "display_data"
    }
   ],
   "source": [
    "from showoff import dataset_path, images, augmentation_pipeline, get_results, fin_filter\n",
    "\n",
    "print(f\"Dataset is located at {dataset_path=}\")\n",
    "print(f\"There are {len(images)} images\")"
   ]
  },
  {
   "cell_type": "code",
   "execution_count": 10,
   "id": "d2e11849",
   "metadata": {},
   "outputs": [
    {
     "data": {
      "application/javascript": [
       "\n",
       "            setTimeout(function() {\n",
       "                var nbb_cell_id = 10;\n",
       "                var nbb_unformatted_code = \"cache = dict()\\n\\ndef show_results(\\n    image=images,\\n    use_threshold=False,\\n    mask_original=False,\\n    mask_mode=[\\n        \\\"prediction\\\",\\n        \\\"ground truth\\\",\\n        \\\"intersection\\\",\\n        \\\"prediction - gt\\\",\\n        \\\"gt - prediction\\\",\\n    ],\\n    alpha=0.5,\\n    threshold=(0, 1, 0.01),\\n    zadanie=[3, 5]\\n):\\n    fig, (ax1, ax2) = plt.subplots(1, 2, figsize=(20, 20))\\n    if zadanie == 3:\\n        x, y, m, p = fin_filter(image)\\n    else:\\n        x, y, m, p = get_results(image)\\n    if use_threshold or mask_original and zadanie == 5:\\n        p = p >= threshold\\n\\n    if mask_original:\\n        ax1.imshow(x)\\n        mask = np.copy(x)\\n        color = np.array([0, 0, 255])\\n        if mask_mode == \\\"prediction\\\":\\n            mask[p] = color\\n        if mask_mode == \\\"ground truth\\\":\\n            mask[y] = color\\n        if mask_mode == \\\"intersection\\\":\\n            mask[p & y] = color\\n        if mask_mode == \\\"prediction - gt\\\":\\n            mask[p & ~y] = color\\n        if mask_mode == \\\"gt - prediction\\\":\\n            mask[~p & y] = color\\n        ax2.imshow(x)\\n        ax2.imshow(mask, alpha=alpha)\\n        ax1.set_title(\\\"Original\\\")\\n        ax2.set_title(\\\"Masked\\\")\\n    else:\\n        ax1.imshow(y, cmap=\\\"gray\\\")\\n        ax2.imshow(p, cmap=\\\"gray\\\")\\n        ax1.set_title(\\\"Ground truth\\\")\\n        ax2.set_title(\\\"Prediction\\\")\\n    for ax in [ax1, ax2]:\\n        ax.axis(\\\"off\\\")\\n        ax.set_xticks([])\\n    fig.tight_layout()\\n    \\n    if use_threshold or mask_original or zadanie == 3:\\n        key = (image, threshold, zadanie)\\n        if key in cache:\\n            report = cache[key]\\n        else:\\n            report = classification_report(y[m], p[m], zero_division=0)\\n            cache[key] = report\\n        print(report)\";\n",
       "                var nbb_formatted_code = \"cache = dict()\\n\\n\\ndef show_results(\\n    image=images,\\n    use_threshold=False,\\n    mask_original=False,\\n    mask_mode=[\\n        \\\"prediction\\\",\\n        \\\"ground truth\\\",\\n        \\\"intersection\\\",\\n        \\\"prediction - gt\\\",\\n        \\\"gt - prediction\\\",\\n    ],\\n    alpha=0.5,\\n    threshold=(0, 1, 0.01),\\n    zadanie=[3, 5],\\n):\\n    fig, (ax1, ax2) = plt.subplots(1, 2, figsize=(20, 20))\\n    if zadanie == 3:\\n        x, y, m, p = fin_filter(image)\\n    else:\\n        x, y, m, p = get_results(image)\\n    if use_threshold or mask_original and zadanie == 5:\\n        p = p >= threshold\\n\\n    if mask_original:\\n        ax1.imshow(x)\\n        mask = np.copy(x)\\n        color = np.array([0, 0, 255])\\n        if mask_mode == \\\"prediction\\\":\\n            mask[p] = color\\n        if mask_mode == \\\"ground truth\\\":\\n            mask[y] = color\\n        if mask_mode == \\\"intersection\\\":\\n            mask[p & y] = color\\n        if mask_mode == \\\"prediction - gt\\\":\\n            mask[p & ~y] = color\\n        if mask_mode == \\\"gt - prediction\\\":\\n            mask[~p & y] = color\\n        ax2.imshow(x)\\n        ax2.imshow(mask, alpha=alpha)\\n        ax1.set_title(\\\"Original\\\")\\n        ax2.set_title(\\\"Masked\\\")\\n    else:\\n        ax1.imshow(y, cmap=\\\"gray\\\")\\n        ax2.imshow(p, cmap=\\\"gray\\\")\\n        ax1.set_title(\\\"Ground truth\\\")\\n        ax2.set_title(\\\"Prediction\\\")\\n    for ax in [ax1, ax2]:\\n        ax.axis(\\\"off\\\")\\n        ax.set_xticks([])\\n    fig.tight_layout()\\n\\n    if use_threshold or mask_original or zadanie == 3:\\n        key = (image, threshold, zadanie)\\n        if key in cache:\\n            report = cache[key]\\n        else:\\n            report = classification_report(y[m], p[m], zero_division=0)\\n            cache[key] = report\\n        print(report)\";\n",
       "                var nbb_cells = Jupyter.notebook.get_cells();\n",
       "                for (var i = 0; i < nbb_cells.length; ++i) {\n",
       "                    if (nbb_cells[i].input_prompt_number == nbb_cell_id) {\n",
       "                        if (nbb_cells[i].get_text() == nbb_unformatted_code) {\n",
       "                             nbb_cells[i].set_text(nbb_formatted_code);\n",
       "                        }\n",
       "                        break;\n",
       "                    }\n",
       "                }\n",
       "            }, 500);\n",
       "            "
      ],
      "text/plain": [
       "<IPython.core.display.Javascript object>"
      ]
     },
     "metadata": {},
     "output_type": "display_data"
    }
   ],
   "source": [
    "cache = dict()\n",
    "\n",
    "def show_results(\n",
    "    image=images,\n",
    "    use_threshold=False,\n",
    "    mask_original=False,\n",
    "    mask_mode=[\n",
    "        \"prediction\",\n",
    "        \"ground truth\",\n",
    "        \"intersection\",\n",
    "        \"prediction - gt\",\n",
    "        \"gt - prediction\",\n",
    "    ],\n",
    "    alpha=0.5,\n",
    "    threshold=(0, 1, 0.01),\n",
    "    zadanie=[3, 5]\n",
    "):\n",
    "    fig, (ax1, ax2) = plt.subplots(1, 2, figsize=(20, 20))\n",
    "    if zadanie == 3:\n",
    "        x, y, m, p = fin_filter(image)\n",
    "    else:\n",
    "        x, y, m, p = get_results(image)\n",
    "    if use_threshold or mask_original and zadanie == 5:\n",
    "        p = p >= threshold\n",
    "\n",
    "    if mask_original:\n",
    "        ax1.imshow(x)\n",
    "        mask = np.copy(x)\n",
    "        color = np.array([0, 0, 255])\n",
    "        if mask_mode == \"prediction\":\n",
    "            mask[p] = color\n",
    "        if mask_mode == \"ground truth\":\n",
    "            mask[y] = color\n",
    "        if mask_mode == \"intersection\":\n",
    "            mask[p & y] = color\n",
    "        if mask_mode == \"prediction - gt\":\n",
    "            mask[p & ~y] = color\n",
    "        if mask_mode == \"gt - prediction\":\n",
    "            mask[~p & y] = color\n",
    "        ax2.imshow(x)\n",
    "        ax2.imshow(mask, alpha=alpha)\n",
    "        ax1.set_title(\"Original\")\n",
    "        ax2.set_title(\"Masked\")\n",
    "    else:\n",
    "        ax1.imshow(y, cmap=\"gray\")\n",
    "        ax2.imshow(p, cmap=\"gray\")\n",
    "        ax1.set_title(\"Ground truth\")\n",
    "        ax2.set_title(\"Prediction\")\n",
    "    for ax in [ax1, ax2]:\n",
    "        ax.axis(\"off\")\n",
    "        ax.set_xticks([])\n",
    "    fig.tight_layout()\n",
    "    \n",
    "    if use_threshold or mask_original or zadanie == 3:\n",
    "        key = (image, threshold, zadanie)\n",
    "        if key in cache:\n",
    "            report = cache[key]\n",
    "        else:\n",
    "            report = classification_report(y[m], p[m], zero_division=0)\n",
    "            cache[key] = report\n",
    "        print(report)\n"
   ]
  },
  {
   "cell_type": "code",
   "execution_count": 9,
   "id": "238b0b73",
   "metadata": {},
   "outputs": [
    {
     "data": {
      "application/vnd.jupyter.widget-view+json": {
       "model_id": "0921d199b960482581022707259f08b4",
       "version_major": 2,
       "version_minor": 0
      },
      "text/plain": [
       "interactive(children=(Dropdown(description='image', options=('01_dr.JPG', '01_g.jpg', '01_h.jpg', '02_dr.JPG',…"
      ]
     },
     "metadata": {},
     "output_type": "display_data"
    },
    {
     "data": {
      "text/plain": [
       "''"
      ]
     },
     "execution_count": 9,
     "metadata": {},
     "output_type": "execute_result"
    },
    {
     "data": {
      "application/javascript": [
       "\n",
       "            setTimeout(function() {\n",
       "                var nbb_cell_id = 9;\n",
       "                var nbb_unformatted_code = \"interact_manual(show_results, alpha=(0, 1, 0.01))\\n\\n\\\"\\\"\";\n",
       "                var nbb_formatted_code = \"interact_manual(show_results, alpha=(0, 1, 0.01))\\n\\n\\\"\\\"\";\n",
       "                var nbb_cells = Jupyter.notebook.get_cells();\n",
       "                for (var i = 0; i < nbb_cells.length; ++i) {\n",
       "                    if (nbb_cells[i].input_prompt_number == nbb_cell_id) {\n",
       "                        if (nbb_cells[i].get_text() == nbb_unformatted_code) {\n",
       "                             nbb_cells[i].set_text(nbb_formatted_code);\n",
       "                        }\n",
       "                        break;\n",
       "                    }\n",
       "                }\n",
       "            }, 500);\n",
       "            "
      ],
      "text/plain": [
       "<IPython.core.display.Javascript object>"
      ]
     },
     "metadata": {},
     "output_type": "display_data"
    }
   ],
   "source": [
    "interact_manual(show_results, alpha=(0, 1, 0.01))\n",
    "\n",
    "\"\""
   ]
  },
  {
   "cell_type": "code",
   "execution_count": null,
   "id": "bfebc8a8",
   "metadata": {},
   "outputs": [],
   "source": []
  }
 ],
 "metadata": {
  "kernelspec": {
   "display_name": "Python 3 (ipykernel)",
   "language": "python",
   "name": "python3"
  },
  "language_info": {
   "codemirror_mode": {
    "name": "ipython",
    "version": 3
   },
   "file_extension": ".py",
   "mimetype": "text/x-python",
   "name": "python",
   "nbconvert_exporter": "python",
   "pygments_lexer": "ipython3",
   "version": "3.9.0"
  }
 },
 "nbformat": 4,
 "nbformat_minor": 5
}
